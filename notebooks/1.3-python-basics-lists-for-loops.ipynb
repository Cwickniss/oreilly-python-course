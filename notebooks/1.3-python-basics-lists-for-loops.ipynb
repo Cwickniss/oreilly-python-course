{
 "cells": [
  {
   "cell_type": "code",
   "execution_count": 2,
   "metadata": {},
   "outputs": [],
   "source": [
    "from ai_tools import ask_ai\n",
    "from IPython.display import Markdown"
   ]
  },
  {
   "cell_type": "markdown",
   "metadata": {},
   "source": [
    "# Lists\n",
    "\n",
    "Lesson 4 - Python lists, accessing elements, adding, removing, different data types in same list"
   ]
  },
  {
   "cell_type": "markdown",
   "metadata": {},
   "source": [
    "Lists are a way for Python to store data as a sequence of elements facilitating the process of accessing, retrieving and manipulating that data."
   ]
  },
  {
   "cell_type": "code",
   "execution_count": 1,
   "metadata": {},
   "outputs": [],
   "source": [
    "names = [\"John\", \"Mary\", \"David\", \"Sarah\", \"Michael\"]"
   ]
  },
  {
   "cell_type": "code",
   "execution_count": 2,
   "metadata": {},
   "outputs": [],
   "source": [
    "phone_numbers = [\"555-0123\", \"555-4567\", \"555-8901\", \"555-2345\", \"555-6789\"]"
   ]
  },
  {
   "cell_type": "code",
   "execution_count": 4,
   "metadata": {},
   "outputs": [
    {
     "data": {
      "text/plain": [
       "[('John', '555-0123'),\n",
       " ('Mary', '555-4567'),\n",
       " ('David', '555-8901'),\n",
       " ('Sarah', '555-2345'),\n",
       " ('Michael', '555-6789')]"
      ]
     },
     "execution_count": 4,
     "metadata": {},
     "output_type": "execute_result"
    }
   ],
   "source": [
    "names_and_phone_numbers = list(zip(names, phone_numbers))\n",
    "\n",
    "names_and_phone_numbers"
   ]
  },
  {
   "cell_type": "markdown",
   "metadata": {},
   "source": [
    "In this last example we used the special built-in function [zip](https://arc.net/l/quote/rfhdakpk) to create an [iterable](https://arc.net/l/quote/zzfchgcy)\n",
    "that combines 2 lists together, pairing each element with their corresponding one in the other list (so we assume the lists have the same size)."
   ]
  },
  {
   "cell_type": "code",
   "execution_count": 9,
   "metadata": {},
   "outputs": [
    {
     "name": "stdout",
     "output_type": "stream",
     "text": [
      "Methods available for lists:\n",
      "['append', 'clear', 'copy', 'count', 'extend', 'index', 'insert', 'pop', 'remove', 'reverse', 'sort']\n"
     ]
    }
   ],
   "source": [
    "# Let's see all the methods available for our lists using dir()\n",
    "\n",
    "list_of_something = [1,2,3,4,\"5\",6.2]\n",
    "print(\"Methods available for lists:\")\n",
    "print([method for method in dir(list_of_something) if \"__\" not in method])"
   ]
  },
  {
   "cell_type": "markdown",
   "metadata": {},
   "source": [
    "Methods are functions available to [Python objects](https://arc.net/l/quote/pfeluuwe) that the user can use to\n",
    "perform operations with that object. \n",
    "In the case of lists we have methods that allows us to perform operations like:\n",
    "1. `append` - adding elements to the list \n",
    "2. `extend` - adding multiple elements from another list\n",
    "3. `insert` - adding an element at a specific position\n",
    "4. `remove` - removing a specific element\n",
    "5. `pop` - removing and returning an element at a specific index\n",
    "6. `clear` - removing all elements\n",
    "7. `index` - finding the position of an element\n",
    "8. `count` - counting occurrences of an element\n",
    "9. `sort` - sorting the list in place\n",
    "10. `reverse` - reversing the order of elements\n",
    "11. `copy` - creating a [shallow copy](https://docs.python.org/3/library/copy.html#:~:text=A%20shallow%20copy%20constructs%20a,objects%20found%20in%20the%20original.) of the list (a new list with references to the same objects)"
   ]
  },
  {
   "cell_type": "code",
   "execution_count": 15,
   "metadata": {},
   "outputs": [
    {
     "data": {
      "text/plain": [
       "[1, 2, 3, 4]"
      ]
     },
     "execution_count": 15,
     "metadata": {},
     "output_type": "execute_result"
    }
   ],
   "source": [
    "list1 = [1,2,3]\n",
    "\n",
    "list1.append(4)\n",
    "\n",
    "list1"
   ]
  },
  {
   "cell_type": "code",
   "execution_count": 16,
   "metadata": {},
   "outputs": [
    {
     "data": {
      "text/plain": [
       "[1, 2, 3, 4, 5, 6, 7]"
      ]
     },
     "execution_count": 16,
     "metadata": {},
     "output_type": "execute_result"
    }
   ],
   "source": [
    "list1.extend([5,6,7])\n",
    "\n",
    "list1"
   ]
  },
  {
   "cell_type": "code",
   "execution_count": 19,
   "metadata": {},
   "outputs": [
    {
     "name": "stdout",
     "output_type": "stream",
     "text": [
      "After insert: [1, 2, 3, 4, 5]\n"
     ]
    }
   ],
   "source": [
    "# insert - adding element at specific position\n",
    "numbers = [1, 2, 4, 5]\n",
    "numbers.insert(2, 3)  # Insert 3 at index 2\n",
    "print(\"After insert:\", numbers)"
   ]
  },
  {
   "cell_type": "code",
   "execution_count": 20,
   "metadata": {},
   "outputs": [
    {
     "name": "stdout",
     "output_type": "stream",
     "text": [
      "After remove: ['banana', 'apple', 'orange']\n"
     ]
    }
   ],
   "source": [
    "# remove - removing specific element\n",
    "fruits = [\"apple\", \"banana\", \"apple\", \"orange\"]\n",
    "fruits.remove(\"apple\")  # Removes first occurrence of \"apple\"\n",
    "print(\"After remove:\", fruits)"
   ]
  },
  {
   "cell_type": "code",
   "execution_count": 21,
   "metadata": {},
   "outputs": [
    {
     "name": "stdout",
     "output_type": "stream",
     "text": [
      "Popped element: green\n",
      "After pop: ['red', 'blue']\n"
     ]
    }
   ],
   "source": [
    "# pop - removing and returning element at index\n",
    "colors = [\"red\", \"green\", \"blue\"]\n",
    "removed_color = colors.pop(1)  # Remove and return element at index 1\n",
    "print(\"Popped element:\", removed_color)\n",
    "print(\"After pop:\", colors)"
   ]
  },
  {
   "cell_type": "code",
   "execution_count": 22,
   "metadata": {},
   "outputs": [
    {
     "name": "stdout",
     "output_type": "stream",
     "text": [
      "After clear: []\n"
     ]
    }
   ],
   "source": [
    "# clear - removing all elements\n",
    "numbers = [1, 2, 3, 4]\n",
    "numbers.clear()\n",
    "print(\"After clear:\", numbers)"
   ]
  },
  {
   "cell_type": "code",
   "execution_count": 23,
   "metadata": {},
   "outputs": [
    {
     "name": "stdout",
     "output_type": "stream",
     "text": [
      "Index of 'b': 1\n"
     ]
    }
   ],
   "source": [
    "# index - finding position of element\n",
    "letters = [\"a\", \"b\", \"c\", \"b\", \"d\"]\n",
    "position = letters.index(\"b\")  # Returns index of first \"b\"\n",
    "print(\"Index of 'b':\", position)"
   ]
  },
  {
   "cell_type": "code",
   "execution_count": 24,
   "metadata": {},
   "outputs": [
    {
     "name": "stdout",
     "output_type": "stream",
     "text": [
      "Count of 2: 3\n"
     ]
    }
   ],
   "source": [
    "# count - counting occurrences\n",
    "numbers = [1, 2, 2, 3, 2, 4]\n",
    "count_of_2 = numbers.count(2)\n",
    "print(\"Count of 2:\", count_of_2)"
   ]
  },
  {
   "cell_type": "code",
   "execution_count": 25,
   "metadata": {},
   "outputs": [
    {
     "name": "stdout",
     "output_type": "stream",
     "text": [
      "After sort: [1, 1, 2, 3, 4, 5, 9]\n"
     ]
    }
   ],
   "source": [
    "# sort - sorting the list in place\n",
    "numbers = [3, 1, 4, 1, 5, 9, 2]\n",
    "numbers.sort()\n",
    "print(\"After sort:\", numbers)"
   ]
  },
  {
   "cell_type": "code",
   "execution_count": 26,
   "metadata": {},
   "outputs": [
    {
     "name": "stdout",
     "output_type": "stream",
     "text": [
      "After reverse: ['d', 'c', 'b', 'a']\n"
     ]
    }
   ],
   "source": [
    "# reverse - reversing order of elements\n",
    "letters = [\"a\", \"b\", \"c\", \"d\"]\n",
    "letters.reverse()\n",
    "print(\"After reverse:\", letters)"
   ]
  },
  {
   "cell_type": "code",
   "execution_count": 27,
   "metadata": {},
   "outputs": [
    {
     "name": "stdout",
     "output_type": "stream",
     "text": [
      "Original: [1, [2, 3], 4]\n",
      "Copy: [1, [2, 3], 4]\n"
     ]
    }
   ],
   "source": [
    "# copy - creating a shallow copy\n",
    "original = [1, [2, 3], 4]\n",
    "copied = original.copy()\n",
    "print(\"Original:\", original)\n",
    "print(\"Copy:\", copied)"
   ]
  },
  {
   "cell_type": "markdown",
   "metadata": {},
   "source": [
    "We can have lists of different things, different data types."
   ]
  },
  {
   "cell_type": "code",
   "execution_count": 30,
   "metadata": {},
   "outputs": [
    {
     "data": {
      "text/plain": [
       "[1,\n",
       " 'string',\n",
       " 53.5,\n",
       " [1, 2, 3],\n",
       " 'My age is 17',\n",
       " True,\n",
       " None,\n",
       " (1, 2),\n",
       " {'key': 'value'},\n",
       " {1, 2, 3},\n",
       " (1+2j),\n",
       " b'bytes',\n",
       " bytearray(b'hi'),\n",
       " frozenset({1, 2}),\n",
       " range(0, 3)]"
      ]
     },
     "execution_count": 30,
     "metadata": {},
     "output_type": "execute_result"
    }
   ],
   "source": [
    "number = 17\n",
    "variable = f\"My age is {number}\"\n",
    "mixed_data_types_list = [\n",
    "    1,                    # integer\n",
    "    \"string\",            # string\n",
    "    53.5,               # float\n",
    "    [1,2,3],           # list\n",
    "    variable,          # string (formatted string)\n",
    "    True,              # boolean\n",
    "    None,              # NoneType\n",
    "    (1, 2),            # tuple \n",
    "    {\"key\": \"value\"},  # dictionary\n",
    "    {1, 2, 3},        # set\n",
    "    complex(1, 2),     # complex number\n",
    "    b\"bytes\",          # bytes\n",
    "    bytearray(b\"hi\"),  # bytearray\n",
    "    frozenset({1,2}),  # frozenset\n",
    "    range(3)           # range\n",
    "]\n",
    "mixed_data_types_list"
   ]
  },
  {
   "cell_type": "markdown",
   "metadata": {},
   "source": [
    "One useful thing we can do with lists is have for example a TODO list:"
   ]
  },
  {
   "cell_type": "code",
   "execution_count": 31,
   "metadata": {},
   "outputs": [
    {
     "name": "stdout",
     "output_type": "stream",
     "text": [
      "My TODO list:\n",
      "['Buy groceries', 'Call dentist', 'Submit assignment', 'Go to gym', 'Read book chapter']\n"
     ]
    }
   ],
   "source": [
    "todo_list = [\n",
    "    \"Buy groceries\",\n",
    "    \"Call dentist\",\n",
    "    \"Submit assignment\",\n",
    "    \"Go to gym\",\n",
    "    \"Read book chapter\"\n",
    "]\n",
    "print(\"My TODO list:\")\n",
    "print(todo_list)"
   ]
  },
  {
   "cell_type": "markdown",
   "metadata": {},
   "source": [
    "# For Loops\n",
    "\n",
    "But what if we want to check each element of this list and maybe print it? How would we do that?\n",
    "For that we use [`for`](https://arc.net/l/quote/seagvnhp) loops!"
   ]
  },
  {
   "cell_type": "code",
   "execution_count": 32,
   "metadata": {},
   "outputs": [
    {
     "data": {
      "text/markdown": [
       "## My TODO List\n",
       "\n",
       "- [ ] Buy groceries\n",
       "- [ ] Call dentist\n",
       "- [ ] Submit assignment\n",
       "- [ ] Go to gym\n",
       "- [ ] Read book chapter\n"
      ],
      "text/plain": [
       "<IPython.core.display.Markdown object>"
      ]
     },
     "execution_count": 32,
     "metadata": {},
     "output_type": "execute_result"
    }
   ],
   "source": [
    "from IPython.display import Markdown\n",
    "\n",
    "# Create a markdown string with checkboxes for each todo item\n",
    "todo_markdown = \"## My TODO List\\n\\n\"\n",
    "# Don't worry about this for thing here yet!\n",
    "for task in todo_list:\n",
    "    todo_markdown += f\"- [ ] {task}\\n\"\n",
    "\n",
    "# Display as markdown\n",
    "Markdown(todo_markdown)"
   ]
  },
  {
   "cell_type": "markdown",
   "metadata": {},
   "source": [
    "For loops area awesome, they allows us to access each element of a list in order and perform operations on that element."
   ]
  },
  {
   "cell_type": "code",
   "execution_count": 1,
   "metadata": {},
   "outputs": [
    {
     "name": "stdout",
     "output_type": "stream",
     "text": [
      "11\n",
      "12\n",
      "13\n"
     ]
    }
   ],
   "source": [
    "for element in [1,2,3]:\n",
    "    print(element + 10)"
   ]
  },
  {
   "cell_type": "markdown",
   "metadata": {},
   "source": [
    "We can use for loops for example to ask multiple questions to an ai and then store the results."
   ]
  },
  {
   "cell_type": "code",
   "execution_count": 7,
   "metadata": {},
   "outputs": [],
   "source": [
    "questions = [\n",
    "    \"Can you explain how photosynthesis works in a simple sentence?\",\n",
    "    \"Write a one paragraph short story about a robot and a butterfly\",\n",
    "    \"What are the main differences between Python and JavaScript in simple terms no more than one paragraph?\",\n",
    "]\n",
    "\n",
    "responses = []\n",
    "for question in questions:\n",
    "    answer = ask_ai(question)\n",
    "    responses.append([question, answer])"
   ]
  },
  {
   "cell_type": "markdown",
   "metadata": {},
   "source": [
    "We can even use for loops to create nice visualizations of the answers."
   ]
  },
  {
   "cell_type": "code",
   "execution_count": 8,
   "metadata": {},
   "outputs": [
    {
     "data": {
      "text/markdown": [
       "## Questions and Answers\n",
       "\n",
       "<span style='color: red'>**Q:** Can you explain how photosynthesis works in a simple sentence?</span>\n",
       "\n",
       "<span style='color: green'>**A:** Photosynthesis is the process by which plants, algae, and some bacteria convert sunlight, carbon dioxide, and water into glucose (a type of sugar) and oxygen.</span>\n",
       "\n",
       "---\n",
       "\n",
       "<span style='color: red'>**Q:** Write a one paragraph short story about a robot and a butterfly</span>\n",
       "\n",
       "<span style='color: green'>**A:** In a sun-dappled meadow at the edge of a bustling city, a small robot named Lumo sat quietly, its metallic frame glinting in the afternoon light. Lumo was designed for simple tasks, but it often found itself drawn to the meadow, captivated by the vibrant life it observed there. One day, as it whirred softly, a delicate butterfly with iridescent wings fluttered down and landed on its outstretched hand. The robot's sensors registered the gentle weight and intricate patterns of the butterfly's wings, sparking a new kind of curiosity within its circuits. For a moment, the two beings—one a marvel of nature, the other a creation of human ingenuity—shared a silent connection, each reflecting the beauty and complexity of the world in its own way. As the butterfly took flight again, Lumo's sensors followed its path, and though it couldn't feel emotions, something akin to wonder lingered in its programming, a reminder of the unexpected harmony between technology and nature.</span>\n",
       "\n",
       "---\n",
       "\n",
       "<span style='color: red'>**Q:** What are the main differences between Python and JavaScript in simple terms no more than one paragraph?</span>\n",
       "\n",
       "<span style='color: green'>**A:** Python and JavaScript are both high-level programming languages, but they serve different purposes and have distinct characteristics. Python is known for its readability and simplicity, making it ideal for beginners and for tasks like data analysis, machine learning, and backend development. It emphasizes code readability with its use of indentation. JavaScript, on the other hand, is primarily used for web development to create interactive and dynamic web pages. It runs in the browser and is essential for front-end development, though it can also be used on the server side with environments like Node.js. While Python is often praised for its straightforward syntax, JavaScript is valued for its versatility and ability to run on virtually any device with a web browser.</span>\n",
       "\n",
       "---\n",
       "\n"
      ],
      "text/plain": [
       "<IPython.core.display.Markdown object>"
      ]
     },
     "execution_count": 8,
     "metadata": {},
     "output_type": "execute_result"
    }
   ],
   "source": [
    "# Create a markdown string with colored Q&A\n",
    "qa_markdown = \"## Questions and Answers\\n\\n\"\n",
    "for question, answer in responses:\n",
    "    qa_markdown += f\"<span style='color: red'>**Q:** {question}</span>\\n\\n\"\n",
    "    qa_markdown += f\"<span style='color: green'>**A:** {answer}</span>\\n\\n\"\n",
    "    qa_markdown += \"---\\n\\n\"\n",
    "\n",
    "# Display as markdown\n",
    "Markdown(qa_markdown)"
   ]
  }
 ],
 "metadata": {
  "kernelspec": {
   "display_name": "oreilly-automate-tasks",
   "language": "python",
   "name": "oreilly-automate-tasks"
  },
  "language_info": {
   "codemirror_mode": {
    "name": "ipython",
    "version": 3
   },
   "file_extension": ".py",
   "mimetype": "text/x-python",
   "name": "python",
   "nbconvert_exporter": "python",
   "pygments_lexer": "ipython3",
   "version": "3.11.11"
  }
 },
 "nbformat": 4,
 "nbformat_minor": 2
}
