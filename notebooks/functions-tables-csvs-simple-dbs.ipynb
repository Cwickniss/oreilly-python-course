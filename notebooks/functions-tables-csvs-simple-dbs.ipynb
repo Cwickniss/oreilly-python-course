{
 "cells": [
  {
   "cell_type": "markdown",
   "metadata": {},
   "source": [
    "# Functions in Python\n",
    "\n",
    "Functions are magical things in Python! They help us encapsulate logic to facilitate manipulating data."
   ]
  },
  {
   "cell_type": "code",
   "execution_count": 1,
   "metadata": {},
   "outputs": [
    {
     "data": {
      "text/plain": [
       "'Hello! How can I assist you today?'"
      ]
     },
     "execution_count": 1,
     "metadata": {},
     "output_type": "execute_result"
    }
   ],
   "source": [
    "from ai_tools import ask_ai\n",
    "\n",
    "ask_ai(\"Hi\")"
   ]
  },
  {
   "cell_type": "code",
   "execution_count": 3,
   "metadata": {},
   "outputs": [
    {
     "data": {
      "text/plain": [
       "\"Certainly! Here are the top 10 basic concepts to learn about scripting with Python:\\n\\n1. **Syntax and Structure**: Understanding Python's syntax, indentation rules, and how to write basic statements and expressions.\\n\\n2. **Variables and Data Types**: Learning how to declare variables and understanding the different data types such as integers, floats, strings, lists, tuples, and dictionaries.\\n\\n3. **Control Flow**: Mastering conditional statements (`if`, `elif`, `else`) and loops (`for`, `while`) to control the execution flow of the script.\\n\\n4. **Functions**: Learning how to define and call functions, understanding scope, and using parameters and return values.\\n\\n5. **Modules and Libraries**: Understanding how to import and use Python's standard libraries and third-party modules to extend functionality.\\n\\n6. **File I/O**: Learning how to read from and write to files, handle file paths, and manage file operations.\\n\\n7. **Error Handling**: Understanding how to handle exceptions and errors gracefully using `try`, `except`, `finally`, and `raise`.\\n\\n8. **Data Structures**: Familiarity with Python's built-in data structures like lists, sets, dictionaries, and tuples, and how to manipulate them.\\n\\n9. **List Comprehensions and Generators**: Learning how to create concise and efficient lists and iterators using list comprehensions and generator expressions.\\n\\n10. **Basic Object-Oriented Programming (OOP)**: Understanding the basics of classes and objects, including how to define classes, create instances, and use methods and attributes.\\n\\nThese concepts form the foundation of scripting in Python and are essential for building more complex programs and applications.\""
      ]
     },
     "execution_count": 3,
     "metadata": {},
     "output_type": "execute_result"
    }
   ],
   "source": [
    "ask_ai(\"What are the top 10 basic concepts to learn about scripting with Python? Output a list.\")"
   ]
  },
  {
   "cell_type": "code",
   "execution_count": 4,
   "metadata": {},
   "outputs": [
    {
     "data": {
      "text/markdown": [
       "Certainly! Here are the top 10 basic concepts to learn about scripting with Python:\n",
       "\n",
       "1. **Syntax and Semantics**: Understanding Python's syntax, including indentation, comments, and basic structure of a Python script.\n",
       "\n",
       "2. **Data Types and Variables**: Learning about different data types (integers, floats, strings, lists, tuples, dictionaries, sets) and how to declare and use variables.\n",
       "\n",
       "3. **Control Structures**: Mastering conditional statements (`if`, `elif`, `else`) and loops (`for`, `while`) to control the flow of the program.\n",
       "\n",
       "4. **Functions**: Defining and calling functions, understanding scope, and using arguments and return values.\n",
       "\n",
       "5. **Modules and Libraries**: Importing and using built-in and third-party modules and libraries to extend Python's functionality.\n",
       "\n",
       "6. **File I/O**: Reading from and writing to files, understanding file modes, and handling exceptions during file operations.\n",
       "\n",
       "7. **Error and Exception Handling**: Using `try`, `except`, `finally`, and `raise` to handle errors and exceptions gracefully.\n",
       "\n",
       "8. **Data Structures**: Understanding and using lists, dictionaries, sets, and tuples effectively for data manipulation.\n",
       "\n",
       "9. **List Comprehensions and Generators**: Using list comprehensions for concise and efficient list operations, and understanding generators for lazy evaluation.\n",
       "\n",
       "10. **Basic Object-Oriented Programming (OOP)**: Understanding classes and objects, encapsulation, inheritance, and polymorphism in Python.\n",
       "\n",
       "These concepts form the foundation for scripting in Python and will help you build more complex programs as you advance."
      ],
      "text/plain": [
       "<IPython.core.display.Markdown object>"
      ]
     },
     "execution_count": 4,
     "metadata": {},
     "output_type": "execute_result"
    }
   ],
   "source": [
    "from IPython.display import Markdown\n",
    "\n",
    "\n",
    "Markdown(ask_ai(\"What are the top 10 basic concepts to learn about scripting with Python? Output a list.\"))"
   ]
  },
  {
   "cell_type": "markdown",
   "metadata": {},
   "source": [
    "Functions are magical things in Python! They help us encapsulate logic to facilitate manipulating data."
   ]
  },
  {
   "cell_type": "code",
   "execution_count": 5,
   "metadata": {},
   "outputs": [
    {
     "data": {
      "text/plain": [
       "32"
      ]
     },
     "execution_count": 5,
     "metadata": {},
     "output_type": "execute_result"
    }
   ],
   "source": [
    "len(\"OReilly course about Automation!\")"
   ]
  },
  {
   "cell_type": "markdown",
   "metadata": {},
   "source": [
    "The `len` built-in function in Python allows you to calculate how many elements inside some data point like a string."
   ]
  },
  {
   "cell_type": "code",
   "execution_count": 6,
   "metadata": {},
   "outputs": [
    {
     "data": {
      "text/plain": [
       "5"
      ]
     },
     "execution_count": 6,
     "metadata": {},
     "output_type": "execute_result"
    }
   ],
   "source": [
    "len(\"12345\")"
   ]
  },
  {
   "cell_type": "markdown",
   "metadata": {},
   "source": [
    "5 because there are 5 strings inside the big string \"12345\"."
   ]
  },
  {
   "cell_type": "markdown",
   "metadata": {},
   "source": [
    "But you can't use it with everything, for example:"
   ]
  },
  {
   "cell_type": "code",
   "execution_count": 7,
   "metadata": {},
   "outputs": [
    {
     "ename": "TypeError",
     "evalue": "object of type 'int' has no len()",
     "output_type": "error",
     "traceback": [
      "\u001b[0;31m---------------------------------------------------------------------------\u001b[0m",
      "\u001b[0;31mTypeError\u001b[0m                                 Traceback (most recent call last)",
      "Cell \u001b[0;32mIn[7], line 1\u001b[0m\n\u001b[0;32m----> 1\u001b[0m \u001b[38;5;28;43mlen\u001b[39;49m\u001b[43m(\u001b[49m\u001b[38;5;241;43m10\u001b[39;49m\u001b[43m)\u001b[49m\n",
      "\u001b[0;31mTypeError\u001b[0m: object of type 'int' has no len()"
     ]
    }
   ],
   "source": [
    "len(10)"
   ]
  },
  {
   "cell_type": "markdown",
   "metadata": {},
   "source": [
    "Python understands that the number `10` is not a sequential element that warrants the use of the `len()` function."
   ]
  },
  {
   "cell_type": "markdown",
   "metadata": {},
   "source": [
    "Later we'll learn about lists and again see how `len()` can be used on them:"
   ]
  },
  {
   "cell_type": "code",
   "execution_count": 8,
   "metadata": {},
   "outputs": [
    {
     "data": {
      "text/plain": [
       "3"
      ]
     },
     "execution_count": 8,
     "metadata": {},
     "output_type": "execute_result"
    }
   ],
   "source": [
    "len([1,2,3])"
   ]
  },
  {
   "cell_type": "code",
   "execution_count": null,
   "metadata": {},
   "outputs": [],
   "source": []
  }
 ],
 "metadata": {
  "kernelspec": {
   "display_name": "oreilly-automate-tasks",
   "language": "python",
   "name": "oreilly-automate-tasks"
  },
  "language_info": {
   "codemirror_mode": {
    "name": "ipython",
    "version": 3
   },
   "file_extension": ".py",
   "mimetype": "text/x-python",
   "name": "python",
   "nbconvert_exporter": "python",
   "pygments_lexer": "ipython3",
   "version": "3.11.11"
  }
 },
 "nbformat": 4,
 "nbformat_minor": 2
}
