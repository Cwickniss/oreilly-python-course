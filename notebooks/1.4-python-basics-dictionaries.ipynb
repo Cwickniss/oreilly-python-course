{
 "cells": [
  {
   "cell_type": "markdown",
   "id": "e3d69cdf",
   "metadata": {},
   "source": [
    "# Python Dictionaries"
   ]
  },
  {
   "cell_type": "code",
   "execution_count": null,
   "id": "598bce48",
   "metadata": {},
   "outputs": [],
   "source": [
    "from ai_tools import ask_ai\n",
    "from IPython.display import Markdown"
   ]
  },
  {
   "cell_type": "markdown",
   "id": "8ba5388d",
   "metadata": {},
   "source": [
    "## Overview\n",
    "\n",
    "Dictionaries in Python let us store data in key-value pairs, making it easy to organize and look up information. Think of them like a contact list on your phone - names (keys) are linked to phone numbers (values)."
   ]
  },
  {
   "cell_type": "code",
   "execution_count": null,
   "id": "f5eb7fee",
   "metadata": {},
   "outputs": [],
   "source": [
    "# Creating a dictionary \n",
    "contacts = {\n",
    "    \"John\": \"555-0123\",\n",
    "    \"Mary\": \"555-4567\",\n",
    "    \"David\": \"555-8901\"\n",
    "}\n",
    "\n",
    "print(f\"Mary's number is: {contacts['Mary']}\")"
   ]
  },
  {
   "cell_type": "markdown",
   "id": "f8e30e33",
   "metadata": {},
   "source": [
    "Like lists, dictionaries have useful methods we can use:"
   ]
  },
  {
   "cell_type": "code",
   "execution_count": null,
   "id": "c0b73d21",
   "metadata": {},
   "outputs": [],
   "source": [
    "# Common dictionary methods\n",
    "print(\"Methods available for dictionaries:\")\n",
    "methods = {\n",
    "    \"keys()\": \"Get all keys\",\n",
    "    \"values()\": \"Get all values\", \n",
    "    \"items()\": \"Get key-value pairs\",\n",
    "    \"get()\": \"Safely get a value\",\n",
    "    \"update()\": \"Add/update entries\",\n",
    "    \"pop()\": \"Remove and return a value\"\n",
    "}\n",
    "\n",
    "for method, description in methods.items():\n",
    "    print(f\"{method}: {description}\")"
   ]
  },
  {
   "cell_type": "markdown",
   "id": "e0f49484",
   "metadata": {},
   "source": [
    "Let's see them in action:"
   ]
  },
  {
   "cell_type": "code",
   "execution_count": null,
   "id": "a24993ef",
   "metadata": {},
   "outputs": [],
   "source": [
    "# Task manager using a dictionary\n",
    "tasks = {\n",
    "    \"Monday\": \"Write report\",\n",
    "    \"Tuesday\": \"Team meeting\",\n",
    "    \"Wednesday\": \"Code review\"\n",
    "}\n",
    "\n",
    "# Getting all tasks\n",
    "print(\"All days:\", tasks.keys())\n",
    "print(\"All activities:\", tasks.values())\n",
    "\n",
    "# Adding a new task\n",
    "tasks.update({\"Thursday\": \"Project planning\"})\n",
    "\n",
    "# Safe way to get tasks\n",
    "print(f\"Friday's task: {tasks.get('Friday', 'No task scheduled')}\")\n",
    "\n",
    "# Removing a task\n",
    "removed_task = tasks.pop(\"Monday\")\n",
    "print(f\"Removed task: {removed_task}\")"
   ]
  },
  {
   "cell_type": "markdown",
   "id": "d8e8809a",
   "metadata": {},
   "source": [
    "Dictionaries can store any type of data:"
   ]
  },
  {
   "cell_type": "code",
   "execution_count": null,
   "id": "8b93270f",
   "metadata": {},
   "outputs": [],
   "source": [
    "person = {\n",
    "    \"name\": \"Alex\",\n",
    "    \"age\": 28,\n",
    "    \"skills\": [\"Python\", \"SQL\", \"Git\"],\n",
    "    \"contact\": {\n",
    "        \"email\": \"alex@example.com\",\n",
    "        \"phone\": \"555-0123\"\n",
    "    },\n",
    "    \"active\": True\n",
    "}\n",
    "\n",
    "# Accessing nested data\n",
    "print(f\"First skill: {person['skills'][0]}\")\n",
    "print(f\"Email: {person['contact']['email']}\")"
   ]
  },
  {
   "cell_type": "markdown",
   "id": "826b5462",
   "metadata": {},
   "source": [
    "We can use dictionaries with our AI tools:"
   ]
  },
  {
   "cell_type": "code",
   "execution_count": null,
   "id": "4e9b2790",
   "metadata": {},
   "outputs": [],
   "source": [
    "# Using dictionaries to generate dynamic prompts\n",
    "expertise_fields = {\n",
    "    \"Python\": \"automation and scripting\",\n",
    "    \"SQL\": \"database management\",\n",
    "    \"Git\": \"version control\"\n",
    "}\n",
    "\n",
    "for field, description in expertise_fields.items():\n",
    "    prompt = f\"Give me 3 essential tips for {field} focusing on {description}.\"\n",
    "    response = ask_ai(prompt)\n",
    "    print(f\"\\n{field} Tips:\")\n",
    "    print(response)"
   ]
  },
  {
   "cell_type": "markdown",
   "id": "faa03824",
   "metadata": {},
   "source": [
    "In automation tasks, dictionaries are perfect for:\n",
    "- Storing configuration settings\n",
    "- Mapping inputs to actions\n",
    "- Organizing structured data\n",
    "- Creating lookup tables\n",
    "\n",
    "Remember: Unlike lists that use positions to find values, dictionaries use keys - making them great when you need to look up specific information quickly."
   ]
  }
 ],
 "metadata": {
  "kernelspec": {
   "display_name": "oreilly-automate-tasks",
   "language": "python",
   "name": "oreilly-automate-tasks"
  },
  "language_info": {
   "name": "python",
   "version": "3.11.11"
  }
 },
 "nbformat": 4,
 "nbformat_minor": 5
}
