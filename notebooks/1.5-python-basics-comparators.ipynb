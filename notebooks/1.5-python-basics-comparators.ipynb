{
 "cells": [
  {
   "cell_type": "markdown",
   "id": "d0d4f5be",
   "metadata": {},
   "source": [
    "# Python Comparisons and Logic\n",
    "\n",
    "## Understanding Booleans and Comparison Operators"
   ]
  },
  {
   "cell_type": "code",
   "execution_count": 1,
   "id": "c7d7e947",
   "metadata": {},
   "outputs": [
    {
     "name": "stdout",
     "output_type": "stream",
     "text": [
      "Type of is_sunny: <class 'bool'>\n"
     ]
    }
   ],
   "source": [
    "# In Python, True and False are special types called booleans\n",
    "is_sunny = True\n",
    "is_raining = False\n",
    "\n",
    "print(f\"Type of is_sunny: {type(is_sunny)}\")"
   ]
  },
  {
   "cell_type": "markdown",
   "id": "e7eaf036",
   "metadata": {},
   "source": [
    "## Comparison Operators"
   ]
  },
  {
   "cell_type": "code",
   "execution_count": 2,
   "id": "ad6becf7",
   "metadata": {},
   "outputs": [
    {
     "name": "stdout",
     "output_type": "stream",
     "text": [
      "Did I complete more than required? False\n",
      "Am I behind schedule? True\n",
      "Am I at least halfway done? True\n",
      "Did I deviate from target? True\n"
     ]
    }
   ],
   "source": [
    "tasks_completed = 5\n",
    "total_tasks = 10\n",
    "\n",
    "# Greater than\n",
    "is_overachiever = tasks_completed > total_tasks\n",
    "print(f\"Did I complete more than required? {is_overachiever}\")\n",
    "\n",
    "# Less than\n",
    "is_behind = tasks_completed < total_tasks\n",
    "print(f\"Am I behind schedule? {is_behind}\")\n",
    "\n",
    "# Greater than or equal to\n",
    "half_tasks = total_tasks / 2\n",
    "is_halfway = tasks_completed >= half_tasks\n",
    "print(f\"Am I at least halfway done? {is_halfway}\")\n",
    "\n",
    "# Equal to (==) vs Assignment (=)\n",
    "target_tasks = 5\n",
    "on_target = tasks_completed == target_tasks  # Comparison\n",
    "tasks_completed = 6                          # Assignment\n",
    "\n",
    "# Not equal to\n",
    "is_different = tasks_completed != target_tasks\n",
    "print(f\"Did I deviate from target? {is_different}\")"
   ]
  },
  {
   "cell_type": "markdown",
   "id": "43d0c576",
   "metadata": {},
   "source": [
    "## Combining Conditions with `and` & `or`"
   ]
  },
  {
   "cell_type": "code",
   "execution_count": 3,
   "id": "b188a966",
   "metadata": {},
   "outputs": [
    {
     "name": "stdout",
     "output_type": "stream",
     "text": [
      "Should I work now? True\n",
      "Can I take a break? True\n"
     ]
    }
   ],
   "source": [
    "time = 14  # 24-hour format\n",
    "energy_level = 8  # scale of 1-10\n",
    "\n",
    "# Using 'and': both conditions must be True\n",
    "good_time_to_work = time >= 9 and time <= 17\n",
    "feeling_productive = energy_level > 7\n",
    "should_work = good_time_to_work and feeling_productive\n",
    "\n",
    "print(f\"Should I work now? {should_work}\")\n",
    "\n",
    "# Using 'or': at least one condition must be True\n",
    "is_weekend = False\n",
    "is_holiday = True\n",
    "can_rest = is_weekend or is_holiday\n",
    "\n",
    "print(f\"Can I take a break? {can_rest}\")"
   ]
  },
  {
   "cell_type": "markdown",
   "id": "8e467d55",
   "metadata": {},
   "source": [
    "## Real-World Example: Task Automation Check"
   ]
  },
  {
   "cell_type": "code",
   "execution_count": 4,
   "id": "4557b284",
   "metadata": {},
   "outputs": [
    {
     "name": "stdout",
     "output_type": "stream",
     "text": [
      "Task: Data Processing\n",
      "Duration: 45 minutes\n",
      "Priority: 9/10\n",
      "Should automate? False\n",
      "Task: Email Sending\n",
      "Duration: 150 minutes\n",
      "Priority: 5/10\n",
      "Should automate? True\n"
     ]
    },
    {
     "data": {
      "text/plain": [
       "True"
      ]
     },
     "execution_count": 4,
     "metadata": {},
     "output_type": "execute_result"
    }
   ],
   "source": [
    "def check_task_status(task_name, duration_minutes, priority_level):\n",
    "    MAX_DURATION = 120  # Maximum task duration in minutes\n",
    "    \n",
    "    is_quick_task = duration_minutes <= 30\n",
    "    is_high_priority = priority_level >= 8\n",
    "    is_manageable = duration_minutes <= MAX_DURATION\n",
    "    \n",
    "    should_automate = (is_quick_task and is_high_priority) or duration_minutes > MAX_DURATION\n",
    "    \n",
    "    print(f\"Task: {task_name}\")\n",
    "    print(f\"Duration: {duration_minutes} minutes\")\n",
    "    print(f\"Priority: {priority_level}/10\")\n",
    "    print(f\"Should automate? {should_automate}\")\n",
    "    \n",
    "    return should_automate\n",
    "\n",
    "# Example usage\n",
    "check_task_status(\"Data Processing\", 45, 9)\n",
    "check_task_status(\"Email Sending\", 150, 5)"
   ]
  },
  {
   "cell_type": "markdown",
   "id": "45c1facd",
   "metadata": {},
   "source": [
    "## Summary of Key Points:"
   ]
  },
  {
   "cell_type": "code",
   "execution_count": 8,
   "id": "23444c5e",
   "metadata": {},
   "outputs": [
    {
     "ename": "SyntaxError",
     "evalue": "invalid syntax. Maybe you meant '==' or ':=' instead of '='? (3010405808.py, line 13)",
     "output_type": "error",
     "traceback": [
      "\u001b[0;36m  Cell \u001b[0;32mIn[8], line 13\u001b[0;36m\u001b[0m\n\u001b[0;31m    if x = y:    # This will cause an error!\u001b[0m\n\u001b[0m       ^\u001b[0m\n\u001b[0;31mSyntaxError\u001b[0m\u001b[0;31m:\u001b[0m invalid syntax. Maybe you meant '==' or ':=' instead of '='?\n"
     ]
    }
   ],
   "source": [
    "# Comparison operators examples\n",
    "x = 5\n",
    "y = 10\n",
    "\n",
    "x < y    # Less than\n",
    "x > y    # Greater than\n",
    "x <= y   # Less than or equal to\n",
    "x >= y   # Greater than or equal to\n",
    "x == y   # Equal to\n",
    "x != y   # Not equal to\n",
    "\n",
    "# Common mistake: using = instead of ==\n",
    "if x = y:    # This will cause an error!\n",
    "    print(\"this print won't go through\")"
   ]
  },
  {
   "cell_type": "code",
   "execution_count": 12,
   "id": "c38146f7",
   "metadata": {},
   "outputs": [],
   "source": [
    "x = 5\n",
    "y = 10\n",
    "if x == y:   # This is correct for comparison\n",
    "    print(\"= is for assignment; == is for equivalence!\")"
   ]
  },
  {
   "cell_type": "code",
   "execution_count": 13,
   "id": "68737e39",
   "metadata": {},
   "outputs": [
    {
     "data": {
      "text/plain": [
       "True"
      ]
     },
     "execution_count": 13,
     "metadata": {},
     "output_type": "execute_result"
    }
   ],
   "source": [
    "# Logical operators\n",
    "True and True    # Returns True"
   ]
  },
  {
   "cell_type": "code",
   "execution_count": 14,
   "id": "eee3d09d",
   "metadata": {},
   "outputs": [
    {
     "data": {
      "text/plain": [
       "False"
      ]
     },
     "execution_count": 14,
     "metadata": {},
     "output_type": "execute_result"
    }
   ],
   "source": [
    "True and False   # Returns False"
   ]
  },
  {
   "cell_type": "code",
   "execution_count": 15,
   "id": "4188864b",
   "metadata": {},
   "outputs": [
    {
     "data": {
      "text/plain": [
       "True"
      ]
     },
     "execution_count": 15,
     "metadata": {},
     "output_type": "execute_result"
    }
   ],
   "source": [
    "True or False    # Returns True"
   ]
  },
  {
   "cell_type": "code",
   "execution_count": 16,
   "id": "a83963fa",
   "metadata": {},
   "outputs": [
    {
     "data": {
      "text/plain": [
       "False"
      ]
     },
     "execution_count": 16,
     "metadata": {},
     "output_type": "execute_result"
    }
   ],
   "source": [
    "False or False   # Returns False"
   ]
  },
  {
   "cell_type": "code",
   "execution_count": null,
   "id": "9ad0ee22",
   "metadata": {},
   "outputs": [],
   "source": []
  },
  {
   "cell_type": "code",
   "execution_count": null,
   "id": "81bc790d",
   "metadata": {},
   "outputs": [],
   "source": []
  }
 ],
 "metadata": {
  "kernelspec": {
   "display_name": "oreilly-automate-tasks",
   "language": "python",
   "name": "oreilly-automate-tasks"
  },
  "language_info": {
   "codemirror_mode": {
    "name": "ipython",
    "version": 3
   },
   "file_extension": ".py",
   "mimetype": "text/x-python",
   "name": "python",
   "nbconvert_exporter": "python",
   "pygments_lexer": "ipython3",
   "version": "3.11.11"
  }
 },
 "nbformat": 4,
 "nbformat_minor": 5
}
