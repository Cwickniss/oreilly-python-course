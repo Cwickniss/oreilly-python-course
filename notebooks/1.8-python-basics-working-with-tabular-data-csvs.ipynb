{
 "cells": [
  {
   "cell_type": "markdown",
   "metadata": {},
   "source": [
    "# Working with Tabular Data\n",
    "\n",
    "Lesson 12 - CSV files, load, read csv, manipulate within dictionaries stored as elements in a list, filter data based on criteria, leverage LLMs to suggest trip activities using extracted data."
   ]
  },
  {
   "cell_type": "markdown",
   "metadata": {},
   "source": []
  }
 ],
 "metadata": {
  "language_info": {
   "name": "python"
  }
 },
 "nbformat": 4,
 "nbformat_minor": 2
}
