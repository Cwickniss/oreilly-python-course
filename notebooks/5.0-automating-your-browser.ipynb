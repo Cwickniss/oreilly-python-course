{
 "cells": [
  {
   "cell_type": "markdown",
   "id": "4398d318",
   "metadata": {},
   "source": [
    "# Introduction to Browser Automation with Playwright in Python\n",
    "\n",
    "This lesson covers automating web browser interactions using the Playwright library in Python, drawing from Python programming fundamentals.\n",
    "\n",
    "## Basic Setup and Imports"
   ]
  },
  {
   "cell_type": "markdown",
   "id": "e62f1289",
   "metadata": {},
   "source": [
    "**<span style=\"color: red\">DISCLAIMER: this notebook will only run locally (not on Google Colab)</span>**"
   ]
  },
  {
   "cell_type": "markdown",
   "id": "abbfd76f",
   "metadata": {},
   "source": [
    "%pip install playwright\n",
    "%playwright install"
   ]
  },
  {
   "cell_type": "code",
   "execution_count": null,
   "id": "acdcab5b",
   "metadata": {},
   "outputs": [],
   "source": [
    "from playwright.sync_api import Playwright, sync_playwright, expect\n",
    "import os\n",
    "import sys"
   ]
  },
  {
   "cell_type": "markdown",
   "id": "24712c7f",
   "metadata": {},
   "source": [
    "## Understanding Browser Automation Flow"
   ]
  },
  {
   "cell_type": "code",
   "execution_count": null,
   "id": "9177191e",
   "metadata": {},
   "outputs": [],
   "source": [
    "def search_movies(playwright: Playwright, movie_title: str) -> None:\n",
    "    # Launch browser in visible mode\n",
    "    browser = playwright.chromium.launch(headless=False)\n",
    "    context = browser.new_context()\n",
    "    \n",
    "    # Create new page\n",
    "    page = context.new_page()\n",
    "    \n",
    "    try:\n",
    "        # Navigate and perform actions\n",
    "        page.goto(\"https://imdb.com\")\n",
    "        search_box = page.get_by_label(\"Search IMDb\")\n",
    "        search_box.fill(movie_title)\n",
    "        search_box.press(\"Enter\")\n",
    "        \n",
    "        # Click first movie result\n",
    "        page.get_by_role(\"link\", name=movie_title, exact=True).first.click()\n",
    "        \n",
    "        # Add to watchlist if logged in\n",
    "        page.get_by_role(\"button\", name=\"Add to Watchlist\").click()\n",
    "        \n",
    "    finally:\n",
    "        # Clean up\n",
    "        context.close()\n",
    "        browser.close()\n",
    "\n",
    "# Usage\n",
    "with sync_playwright() as playwright:\n",
    "    movie = sys.argv[1] if len(sys.argv) > 1 else \"The Matrix\"\n",
    "    search_movies(playwright, movie)"
   ]
  },
  {
   "cell_type": "markdown",
   "id": "0fb75ec5",
   "metadata": {},
   "source": [
    "## Using Environment Variables"
   ]
  },
  {
   "cell_type": "code",
   "execution_count": null,
   "id": "64b7d69a",
   "metadata": {},
   "outputs": [],
   "source": [
    "def get_credentials():\n",
    "    username = os.environ.get(\"MOVIE_DB_USER\")\n",
    "    password = os.environ.get(\"MOVIE_DB_PWD\")\n",
    "    \n",
    "    if not username or not password:\n",
    "        raise ValueError(\"Missing credentials in environment variables\")\n",
    "        \n",
    "    return username, password"
   ]
  },
  {
   "cell_type": "markdown",
   "id": "397f028b",
   "metadata": {},
   "source": [
    "## Advanced Page Interactions"
   ]
  },
  {
   "cell_type": "code",
   "execution_count": null,
   "id": "c88cd052",
   "metadata": {},
   "outputs": [],
   "source": [
    "def login_to_site(page, username: str, password: str):\n",
    "    page.get_by_role(\"link\", name=\"Sign in\").click()\n",
    "    \n",
    "    # Fill login form\n",
    "    page.get_by_label(\"Username\").fill(username)\n",
    "    page.get_by_label(\"Password\").fill(password)\n",
    "    \n",
    "    # Submit form\n",
    "    page.get_by_role(\"button\", name=\"Sign in\").click()\n",
    "    \n",
    "    # Wait for navigation\n",
    "    page.wait_for_load_state(\"networkidle\")"
   ]
  },
  {
   "cell_type": "markdown",
   "id": "868752d8",
   "metadata": {},
   "source": [
    "## Error Handling and Retries"
   ]
  },
  {
   "cell_type": "code",
   "execution_count": null,
   "id": "6f98af71",
   "metadata": {},
   "outputs": [],
   "source": [
    "from typing import Callable\n",
    "import time\n",
    "\n",
    "def retry_action(action: Callable, max_attempts: int = 3, delay: float = 1.0):\n",
    "    \"\"\"Retry an action with exponential backoff\"\"\"\n",
    "    for attempt in range(max_attempts):\n",
    "        try:\n",
    "            return action()\n",
    "        except Exception as e:\n",
    "            if attempt == max_attempts - 1:\n",
    "                raise\n",
    "            time.sleep(delay * (2 ** attempt))"
   ]
  },
  {
   "cell_type": "markdown",
   "id": "ea165c59",
   "metadata": {},
   "source": [
    "## Complete Example: Movie Search and Rating"
   ]
  },
  {
   "cell_type": "code",
   "execution_count": null,
   "id": "0ed191c4",
   "metadata": {},
   "outputs": [],
   "source": [
    "def rate_movie(playwright: Playwright, movie_title: str, rating: int) -> None:\n",
    "    browser = playwright.chromium.launch(headless=False)\n",
    "    context = browser.new_context()\n",
    "    page = context.new_page()\n",
    "    \n",
    "    try:\n",
    "        # Setup\n",
    "        page.goto(\"https://imdb.com\")\n",
    "        username, password = get_credentials()\n",
    "        \n",
    "        # Login\n",
    "        retry_action(lambda: login_to_site(page, username, password))\n",
    "        \n",
    "        # Search and rate\n",
    "        search_box = page.get_by_label(\"Search IMDb\")\n",
    "        search_box.fill(movie_title)\n",
    "        search_box.press(\"Enter\")\n",
    "        \n",
    "        # Find and click movie\n",
    "        movie_link = page.get_by_role(\"link\", name=movie_title, exact=True).first\n",
    "        movie_link.click()\n",
    "        \n",
    "        # Rate movie\n",
    "        rating_button = page.get_by_role(\"button\", name=f\"Rate {rating}\")\n",
    "        rating_button.click()\n",
    "        \n",
    "    finally:\n",
    "        context.close()\n",
    "        browser.close()\n",
    "\n",
    "# Example usage\n",
    "if __name__ == \"__main__\":\n",
    "    with sync_playwright() as playwright:\n",
    "        movie = sys.argv[1] if len(sys.argv) > 1 else \"Inception\"\n",
    "        rating = int(sys.argv[2]) if len(sys.argv) > 2 else 5\n",
    "        rate_movie(playwright, movie, rating)"
   ]
  },
  {
   "cell_type": "markdown",
   "id": "a39c7cfa",
   "metadata": {},
   "source": [
    "This code demonstrates core Playwright concepts:\n",
    "- Browser and context management\n",
    "- Page navigation and interaction\n",
    "- Form filling and button clicking\n",
    "- Error handling and retries\n",
    "- Environment variable usage\n",
    "- Command line arguments\n",
    "- Type hints and documentation\n",
    "\n",
    "The example uses IMDb instead of Letterboxd but follows similar patterns while introducing additional programming concepts."
   ]
  }
 ],
 "metadata": {
  "language_info": {
   "name": "python"
  }
 },
 "nbformat": 4,
 "nbformat_minor": 5
}
