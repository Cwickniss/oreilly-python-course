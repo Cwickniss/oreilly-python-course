{
 "cells": [
  {
   "cell_type": "markdown",
   "metadata": {},
   "source": [
    "# Variables"
   ]
  },
  {
   "cell_type": "code",
   "execution_count": 1,
   "metadata": {},
   "outputs": [],
   "source": [
    "variable = 10"
   ]
  },
  {
   "cell_type": "code",
   "execution_count": 2,
   "metadata": {},
   "outputs": [
    {
     "name": "stdout",
     "output_type": "stream",
     "text": [
      "10\n"
     ]
    }
   ],
   "source": [
    "print(variable)"
   ]
  },
  {
   "cell_type": "code",
   "execution_count": 3,
   "metadata": {},
   "outputs": [
    {
     "name": "stdout",
     "output_type": "stream",
     "text": [
      "number 10\n"
     ]
    }
   ],
   "source": [
    "variable2 = \"number 10\"\n",
    "\n",
    "print(variable2)"
   ]
  },
  {
   "cell_type": "markdown",
   "metadata": {},
   "source": [
    "**Lesson 2 - variables, values (integers, floats, strings), updating variables, expressions, f-strings + variables.**"
   ]
  },
  {
   "cell_type": "markdown",
   "metadata": {},
   "source": [
    "A variable in Python is simply something that stores data."
   ]
  },
  {
   "cell_type": "code",
   "execution_count": 1,
   "metadata": {},
   "outputs": [],
   "source": [
    "something = \"data\""
   ]
  },
  {
   "cell_type": "code",
   "execution_count": 2,
   "metadata": {},
   "outputs": [
    {
     "name": "stdout",
     "output_type": "stream",
     "text": [
      "data\n"
     ]
    }
   ],
   "source": [
    "print(something)"
   ]
  },
  {
   "cell_type": "markdown",
   "metadata": {},
   "source": [
    "When you store a variable you can do stuff with that variable!"
   ]
  },
  {
   "cell_type": "code",
   "execution_count": 4,
   "metadata": {},
   "outputs": [
    {
     "data": {
      "text/plain": [
       "'data stuff'"
      ]
     },
     "execution_count": 4,
     "metadata": {},
     "output_type": "execute_result"
    }
   ],
   "source": [
    "# Like concatenating strings\n",
    "something + \" stuff\""
   ]
  },
  {
   "cell_type": "code",
   "execution_count": 5,
   "metadata": {},
   "outputs": [
    {
     "data": {
      "text/plain": [
       "30"
      ]
     },
     "execution_count": 5,
     "metadata": {},
     "output_type": "execute_result"
    }
   ],
   "source": [
    "# Adding numbers\n",
    "\n",
    "num1 = 10\n",
    "\n",
    "num2 = 20\n",
    "\n",
    "num1 + num2 "
   ]
  },
  {
   "cell_type": "code",
   "execution_count": 6,
   "metadata": {},
   "outputs": [
    {
     "data": {
      "text/plain": [
       "'Lucas is a wonderful instructor'"
      ]
     },
     "execution_count": 6,
     "metadata": {},
     "output_type": "execute_result"
    }
   ],
   "source": [
    "# Creating new variables\n",
    "\n",
    "old_var = \"Lucas is\"\n",
    "\n",
    "var = \" a wonderful instructor\"\n",
    "\n",
    "new_var = old_var + var\n",
    "\n",
    "new_var"
   ]
  },
  {
   "cell_type": "markdown",
   "metadata": {},
   "source": [
    "You can also dynamically add variables inside strings"
   ]
  },
  {
   "cell_type": "code",
   "execution_count": 7,
   "metadata": {},
   "outputs": [
    {
     "data": {
      "text/plain": [
       "'Teach me about: Mathematics'"
      ]
     },
     "execution_count": 7,
     "metadata": {},
     "output_type": "execute_result"
    }
   ],
   "source": [
    "\n",
    "topic = \"Mathematics\"\n",
    "text = f\"Teach me about: {topic}\"\n",
    "\n",
    "text"
   ]
  },
  {
   "cell_type": "markdown",
   "metadata": {},
   "source": [
    "Variables are great! They give us the ability to work with data, store information and perform dynamic operations. "
   ]
  },
  {
   "cell_type": "markdown",
   "metadata": {},
   "source": [
    "# Variables + LLMs"
   ]
  },
  {
   "cell_type": "markdown",
   "metadata": {},
   "source": [
    "One fun thing we can do with variables is to use them to programatically query LLMs like ChatGPT or claude."
   ]
  },
  {
   "cell_type": "code",
   "execution_count": 8,
   "metadata": {},
   "outputs": [],
   "source": [
    "from ai_tools import ask_ai"
   ]
  },
  {
   "cell_type": "code",
   "execution_count": 9,
   "metadata": {},
   "outputs": [
    {
     "data": {
      "text/plain": [
       "'Certainly! Here are five foundational concepts in programming and automation that are essential for understanding and working effectively in this field:\\n\\n1. **Algorithms and Data Structures**:\\n   - **Algorithms** are step-by-step procedures or formulas for solving problems. They are the backbone of programming, allowing you to perform tasks efficiently and effectively. Understanding how to design and analyze algorithms is crucial for problem-solving.\\n   - **Data Structures** are ways of organizing and storing data so that it can be accessed and modified efficiently. Common data structures include arrays, linked lists, stacks, queues, trees, and graphs. Choosing the right data structure is key to optimizing performance and resource usage.\\n\\n2. **Control Structures**:\\n   - Control structures dictate the flow of a program. They include:\\n     - **Sequential execution**: The default mode where statements are executed one after another.\\n     - **Conditional execution**: Using `if`, `else if`, and `else` statements to execute code based on conditions.\\n     - **Loops**: `for`, `while`, and `do-while` loops allow you to execute a block of code repeatedly.\\n   - Understanding these structures helps in creating logic that can handle various scenarios and iterations.\\n\\n3. **Abstraction and Modularity**:\\n   - **Abstraction** involves hiding complex details to simplify problem-solving. It allows programmers to focus on high-level logic without getting bogged down by low-level details.\\n   - **Modularity** is the practice of breaking down a program into smaller, manageable, and reusable parts, such as functions, classes, or modules. This makes code easier to understand, maintain, and debug.\\n\\n4. **Automation and Scripting**:\\n   - Automation involves using scripts or programs to perform tasks automatically, reducing the need for human intervention. This can include tasks like data processing, system administration, and testing.\\n   - **Scripting languages** like Python, Bash, and JavaScript are often used for automation due to their ease of use and flexibility. Understanding how to write scripts to automate repetitive tasks can greatly enhance productivity.\\n\\n5. **Version Control and Collaboration**:\\n   - **Version control systems** (VCS) like Git are essential for managing changes to code over time. They allow multiple developers to collaborate on a project, track changes, and revert to previous versions if needed.\\n   - Understanding how to use version control effectively is crucial for teamwork and maintaining the integrity of codebases, especially in larger projects.\\n\\nThese concepts form the foundation of programming and automation. Mastering them will provide you with the skills needed to tackle a wide range of problems and projects in the field.'"
      ]
     },
     "execution_count": 9,
     "metadata": {},
     "output_type": "execute_result"
    }
   ],
   "source": [
    "\n",
    "field_of_expertise = \"programming & automation\"\n",
    "prompt = f\"You are an expert at: {field_of_expertise}. Teach me the 5 foundational concepts from this field.\"\n",
    "\n",
    "ask_ai(prompt)"
   ]
  }
 ],
 "metadata": {
  "kernelspec": {
   "display_name": "oreilly-automate-tasks",
   "language": "python",
   "name": "oreilly-automate-tasks"
  },
  "language_info": {
   "codemirror_mode": {
    "name": "ipython",
    "version": 3
   },
   "file_extension": ".py",
   "mimetype": "text/x-python",
   "name": "python",
   "nbconvert_exporter": "python",
   "pygments_lexer": "ipython3",
   "version": "3.11.11"
  }
 },
 "nbformat": 4,
 "nbformat_minor": 2
}
