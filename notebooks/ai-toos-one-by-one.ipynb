{
 "cells": [
  {
   "cell_type": "markdown",
   "metadata": {},
   "source": [
    "# AI Hacks\n",
    "\n",
    "## 1. AI Tools\n",
    "\n",
    "### General\n",
    "- ChatGPT\n",
    "- Claude\n",
    "- Gemini\n",
    "- Ollama\n",
    "- Llama Studio\n",
    "- Deep Seek\n",
    "\n",
    "### Search Tools\n",
    "- Perplexity for search\n",
    "- ChatGPT + search\n",
    "- Gemini 1.5 Pro Deep Research\n",
    "\n",
    "### Development Tools\n",
    "- Claude/ChatGPT Projects\n",
    "- Artifacts in Claude/ChatGPT\n",
    "- ChatGPT Canvas\n",
    "\n",
    "## 2. Whiteboard Techniques\n",
    "- Prompt Templates\n",
    "- Chaining\n",
    "- Hybrid approach\n",
    "\n",
    "## Tips & Tricks\n",
    "- Let it see your screen - Gemini/ChatGPT desktop app\n",
    "- Paste code + error ask it to debug\n",
    "- When a task is simple but has many repeatable steps:\n",
    "  - AI to generate quick Python script in correct proper runnable format\n",
    "  - Copy - paste - run - finish\n",
    "- When AI makes a mistake save it for later as your own personal benchmark\n",
    "- Build app with AI that takes in data with a certain structure and outputs desirable output, format, etc.... then make a prompt template that produces the data into the format acceptable by that app (done) → example my Quiz app.\n",
    "\n",
    "## Advanced Techniques\n",
    "- [Ask for full scripts with uv style package management](https://claude.ai/chat/cf3cb3d1-5b3e-4ea8-8584-5b6ceada7d84)\n",
    "  - [Another example with very little debugging](https://claude.ai/chat/3276e7df-0dcf-4159-a6c0-df0ff9601e85)\n",
    "- Show LLM how to call an API (in the prompt) then ask it to create something with that API\n",
    "- Writing Python code with Claude Projects + relevant documentation\n",
    "- Meta prompts\n",
    "- Context Building Workflow with LLMs\n",
    "- Test-Driven Development with AI (AI Writes Tests First)\n",
    "- Voice driven prompting\n",
    "- Treat AI models as a team of specialized workers"
   ]
  }
 ],
 "metadata": {
  "language_info": {
   "name": "python"
  }
 },
 "nbformat": 4,
 "nbformat_minor": 2
}
